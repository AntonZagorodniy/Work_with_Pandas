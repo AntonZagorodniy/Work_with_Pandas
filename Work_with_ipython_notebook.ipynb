{
 "cells": [
  {
   "cell_type": "code",
   "execution_count": 1,
   "metadata": {
    "collapsed": true
   },
   "outputs": [],
   "source": [
    "import pandas as pd \n",
    "import numpy as np \n",
    "import matplotlib.pyplot as plt \n",
    "%matplotlib inline\n",
    "\n",
    "import os\n",
    "import subprocess"
   ]
  },
  {
   "cell_type": "code",
   "execution_count": 2,
   "metadata": {
    "collapsed": true
   },
   "outputs": [],
   "source": [
    "from datetime import date\n",
    "DATA_PATH = 'C:\\\\Learn\\\\PycharmProjects\\\\domashnee\\\\Work_with_Pandas\\\\names\\\\'"
   ]
  },
  {
   "cell_type": "code",
   "execution_count": 3,
   "metadata": {
    "collapsed": true
   },
   "outputs": [],
   "source": [
    "def input_years(string):\n",
    "    years = input(string).split(', ')\n",
    "    return years\n"
   ]
  },
  {
   "cell_type": "code",
   "execution_count": 4,
   "metadata": {
    "collapsed": true
   },
   "outputs": [],
   "source": [
    "def get_TOP_3_popular_names():\n",
    "    years = input_years('Введите интересующие года через запятую: ')\n",
    "    d_frames = []\n",
    "    cols = ['Name','Gender','Count']\n",
    "    for year in years:\n",
    "        d_frames.append(pd.read_csv(DATA_PATH + 'yob' + year + '.txt', names=cols))\n",
    "    names_all = pd.concat(d_frames, names=['Year', 'Pos'])\n",
    "    names_all_years = names_all.sort_values(by='Count', ascending=False).head(3)\n",
    "    print(\"count_top3({}) == ['{}', '{}', '{}']\".format(years, *names_all_years.Name))\n",
    "    return names_all"
   ]
  },
  {
   "cell_type": "code",
   "execution_count": 5,
   "metadata": {},
   "outputs": [],
   "source": [
    "def evolution_of_the_number_of_names():\n",
    "    years = input_years('Введите года для определения динамики изменения кол-ва имен в разрезе полов через запятую: ')\n",
    "    names = []\n",
    "    cols = ['Name','Gender','Count']\n",
    "    for year in years:\n",
    "        names_all = (pd.read_csv(DATA_PATH + 'yob' + year + '.txt', names=cols))\n",
    "        names.append(names_all.groupby('Gender').sum().to_dict())\n",
    "    m_names = []\n",
    "    f_names = []\n",
    "    for i in range (len(names)):\n",
    "        m_names.append(names[i]['Count']['M'])\n",
    "        f_names.append(names[i]['Count']['F'])\n",
    "    print(\"count_dynamics({}) == {{\".format(years))\n",
    "    print(\"'F': {}, \".format(f_names))\n",
    "    print(\"'M': {}\\n}}\".format(m_names))"
   ]
  },
  {
   "cell_type": "code",
   "execution_count": 6,
   "metadata": {
    "collapsed": true
   },
   "outputs": [],
   "source": [
    "def main():\n",
    "    get_TOP_3_popular_names()\n",
    "    evolution_of_the_number_of_names()"
   ]
  },
  {
   "cell_type": "code",
   "execution_count": 7,
   "metadata": {},
   "outputs": [
    {
     "name": "stdout",
     "output_type": "stream",
     "text": [
      "Введите интересующие года через запятую: 1900, 1950, 2000\n",
      "count_top3(['1900', '1950', '2000']) == ['James', 'Robert', 'Linda']\n",
      "Введите года для определения динамики изменения кол-ва имен в разрезе полов через запятую: 1900, 1950, 2000\n",
      "count_dynamics(['1900', '1950', '2000']) == {\n",
      "'F': [299810, 1713259, 1814922], \n",
      "'M': [150486, 1790871, 1962744]\n",
      "}\n"
     ]
    }
   ],
   "source": [
    "main()"
   ]
  },
  {
   "cell_type": "code",
   "execution_count": null,
   "metadata": {
    "collapsed": true
   },
   "outputs": [],
   "source": []
  }
 ],
 "metadata": {
  "kernelspec": {
   "display_name": "Python 3",
   "language": "python",
   "name": "python3"
  },
  "language_info": {
   "codemirror_mode": {
    "name": "ipython",
    "version": 3
   },
   "file_extension": ".py",
   "mimetype": "text/x-python",
   "name": "python",
   "nbconvert_exporter": "python",
   "pygments_lexer": "ipython3",
   "version": "3.6.1"
  },
  "widgets": {
   "application/vnd.jupyter.widget-state+json": {
    "state": {},
    "version_major": 1,
    "version_minor": 0
   }
  }
 },
 "nbformat": 4,
 "nbformat_minor": 2
}
